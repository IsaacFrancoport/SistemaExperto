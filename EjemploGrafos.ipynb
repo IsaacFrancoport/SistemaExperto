{
 "cells": [
  {
   "cell_type": "code",
   "execution_count": 3,
   "metadata": {},
   "outputs": [],
   "source": [
    "import graphviz\n",
    "\n",
    "class Node:\n",
    "    def __init__(self, value):\n",
    "        self.value = value\n",
    "        self.children = []\n",
    "\n",
    "    def add_child(self, child):\n",
    "        self.children.append(child)\n",
    "\n",
    "def generate_tree():\n",
    "    # Crear el árbol de expresiones\n",
    "    root = Node('->')\n",
    "    node1 = Node('es de dia')\n",
    "    node2 = Node('v')\n",
    "    node3 = Node('hace calor')\n",
    "    node4 = Node('hace frio')\n",
    "\n",
    "    root.add_child(node1)\n",
    "    root.add_child(node2)\n",
    "    node2.add_child(node3)\n",
    "    node2.add_child(node4)\n",
    "\n",
    "    return root\n",
    "\n",
    "def visualize_tree(root):\n",
    "    dot = graphviz.Digraph()\n",
    "\n",
    "    def traverse(node):\n",
    "        dot.node(str(id(node)), node.value)\n",
    "        for child in node.children:\n",
    "            dot.edge(str(id(node)), str(id(child)))\n",
    "            traverse(child)\n",
    "\n",
    "    traverse(root)\n",
    "    dot.render('tree', format='png', view=True)\n",
    "\n",
    "# Generar el árbol y visualizarlo\n",
    "root = generate_tree()\n",
    "visualize_tree(root)"
   ]
  }
 ],
 "metadata": {
  "kernelspec": {
   "display_name": ".venv",
   "language": "python",
   "name": "python3"
  },
  "language_info": {
   "codemirror_mode": {
    "name": "ipython",
    "version": 3
   },
   "file_extension": ".py",
   "mimetype": "text/x-python",
   "name": "python",
   "nbconvert_exporter": "python",
   "pygments_lexer": "ipython3",
   "version": "3.11.8"
  }
 },
 "nbformat": 4,
 "nbformat_minor": 2
}
